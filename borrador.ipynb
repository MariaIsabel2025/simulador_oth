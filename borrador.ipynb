{
 "cells": [
  {
   "cell_type": "code",
   "execution_count": null,
   "metadata": {},
   "outputs": [],
   "source": [
    "import radar\n",
    "%matplotlib tk\n",
    "import matplotlib.pyplot as plt\n",
    "import numpy as np\n",
    "import importlib\n",
    "import cfar\n",
    "import tracking"
   ]
  },
  {
   "cell_type": "code",
   "execution_count": null,
   "metadata": {},
   "outputs": [],
   "source": [
    "importlib.reload(radar)\n",
    "importlib.reload(cfar)"
   ]
  },
  {
   "cell_type": "code",
   "execution_count": null,
   "metadata": {},
   "outputs": [],
   "source": [
    "#cod1=radar.Codigo_pseudoaleatorio(13,30,1)\n",
    "cod1=radar.Codigo_pseudoaleatorio(semilla = 202305041529+4,numero_bits=22,numero_muestras_bit=2)"
   ]
  },
  {
   "cell_type": "code",
   "execution_count": null,
   "metadata": {},
   "outputs": [],
   "source": [
    "def cod_y_correlacion():\n",
    "    plt.figure(1,figsize=(10,6),dpi=100,layout='tight')\n",
    "    plt.clf()\n",
    "    plt.subplot(2,1,1)\n",
    "    plt.title(\"Pulso codificado (secuencia pseudoaleatoria)\")\n",
    "    ycod=cod1.muestras_codigo\n",
    "    xs=np.arange(-len(ycod)+1,len(ycod))\n",
    "    ycorr=np.correlate(ycod,ycod,\"full\")\n",
    "    plt.stem(xs,np.concatenate((np.zeros_like(ycod[:-1]),ycod)))\n",
    "    plt.subplot(2,1,2)\n",
    "    plt.title(\"Autocorrelación de Pulso codificado\")\n",
    "    plt.stem(xs,ycorr)\n",
    "    plt.plot(xs,ycorr,'b--')\n",
    "    plt.xlabel(\"lag\")\n",
    "    plt.show()\n",
    "cod_y_correlacion()"
   ]
  },
  {
   "cell_type": "code",
   "execution_count": null,
   "metadata": {},
   "outputs": [],
   "source": [
    "rad1 = radar.Canal_radar(frec_muestreo=200000,frec_portadora=7e6,pulso=cod1.muestras_codigo,guarda=15000,rango_maximo=400e3, semilla_rng=202305041529+4)\n",
    "comp1 = radar.Compresor_pulso(rad1)\n",
    "simulador = radar.Simulador_escenario(rad1)\n",
    "escenario = [radar.mru(140000,-4), radar.mru(75000,12), radar.mru(100000,-6), radar.mru(55000,0)]\n",
    "exploraciones = simulador.exploracion(escenario,0,60,120, snr_rango_max=1/3)"
   ]
  },
  {
   "cell_type": "code",
   "execution_count": null,
   "metadata": {},
   "outputs": [],
   "source": [
    "comp1.amplitud_cuadrada_correlacion(exploraciones[5]).shape"
   ]
  },
  {
   "cell_type": "code",
   "execution_count": null,
   "metadata": {},
   "outputs": [],
   "source": [
    "#plot de amplitud cuadrada de la correlación para algunos tiempos en función del rango\n",
    "def fig14():\n",
    "  plt.figure(figsize=(12,20),dpi=100)\n",
    "  plt.title(\"Amplitud cuadrada de la correlación a diferentes tiempos\")\n",
    "  #plt.xlabel(\"Rango (en km)\")\n",
    "  #plt.ylabel(\"Amplitud\")\n",
    "  for i in range(10):\n",
    "    plt.subplot(10,1,i+1)\n",
    "    plt.xlabel(\"Rango (en km)\")\n",
    "    plt.ylabel(\"Amplitud\")\n",
    "    plt.plot(comp1.amplitud_cuadrada_correlacion(exploraciones[i*10]))\n",
    "  plt.show()\n",
    "fig14()"
   ]
  },
  {
   "cell_type": "code",
   "execution_count": null,
   "metadata": {},
   "outputs": [],
   "source": [
    "def fig15(compresor_prueba,exploraciones):\n",
    "  correlacion = compresor_prueba.amplitud_cuadrada_correlacion(exploraciones[30])\n",
    "  radar ={\"frec_muestreo\":compresor_prueba.frec_muestreo, # en 1/s\n",
    "          \"ancho_pulso\":compresor_prueba.pulso.size, # adimensional\n",
    "          \"distancia_ciega\": compresor_prueba.rango_minimo_km, # km\n",
    "          \"rango_por_unidad_de_retardo\":1.5e5} # km/s\n",
    "  detector={\"ancho_ventana\":30,\n",
    "            \"k\":(30*6)//7}\n",
    "  detector[\"T\"]=cfar.calcula_t_para_pfa(detector[\"ancho_ventana\"],detector[\"k\"])\n",
    "  rangos,detalle= cfar.detectarOsCfar(radar,correlacion,detector)\n",
    "  plt.figure(figsize=(16,6),dpi=150)\n",
    "  plt.subplot(2,1,1)\n",
    "  plt.plot(correlacion,'.--')\n",
    "  detecciones = detalle[\"posiciones\"]\n",
    "  plt.plot(detecciones,correlacion[detecciones],'r+')\n",
    "  plt.plot(detalle[\"centros\"],detalle[\"umbrales\"],'.--')\n",
    "  plt.subplot(2,1,2)\n",
    "  plt.plot(rangos,np.ones_like(rangos),'ro')\n",
    "  #plt.xlim(0,100)\n",
    "  plt.show()\n",
    "fig15(comp1,exploraciones)"
   ]
  },
  {
   "cell_type": "code",
   "execution_count": null,
   "metadata": {},
   "outputs": [],
   "source": [
    "plt.subplot(2,1,1)\n",
    "plt.plot(np.real(exploraciones[100]))\n",
    "plt.subplot(2,1,2)\n",
    "plt.plot(np.imag(exploraciones[100]))"
   ]
  },
  {
   "cell_type": "code",
   "execution_count": null,
   "metadata": {},
   "outputs": [],
   "source": [
    "sim = simulador.simula(escenario,0,.5,120,120)"
   ]
  },
  {
   "cell_type": "code",
   "execution_count": null,
   "metadata": {},
   "outputs": [],
   "source": [
    "def fig16(exploracion,comp_pulso):\n",
    "    plt.figure(16,figsize=(10,10))\n",
    "    corr =  np.array([comp_pulso.amplitud_cuadrada_correlacion(exploracion[i,:]) for i in range(exploracion.shape[0])])\n",
    "    corr = np.fft.fftshift(corr,0)\n",
    "    R,F = np.meshgrid(np.arange(corr.shape[1]),np.fft.fftshift(np.fft.fftfreq(corr.shape[0],0.5)))\n",
    "    ax=plt.axes(projection='3d')\n",
    "    ax.plot_surface(R,F,corr)\n",
    "    plt.show()\n",
    "fig16(sim[100],comp1)"
   ]
  },
  {
   "cell_type": "code",
   "execution_count": null,
   "metadata": {},
   "outputs": [],
   "source": [
    "# kf = tracking.KF(initial_x=0.0, initial_v=1.0, accel_variance=0.1)\n",
    "# kf = KF(initial_x=0.0, initial_v=1.0, accel_variance=0.1)\n",
    "\n",
    "def fn1(compresor,exploraciones,dt=0.1,varDet=.1,varAcel=.1,tol=1,tolPred=10):\n",
    "    radar ={\"frec_muestreo\":compresor.frec_muestreo, # en 1/s\n",
    "        \"ancho_pulso\":compresor.pulso.size, # adimensional\n",
    "        \"distancia_ciega\": compresor.rango_minimo_km, # km\n",
    "        \"rango_por_unidad_de_retardo\":1.5e5} # km/s\n",
    "    detector={\"ancho_ventana\":30,\n",
    "                \"k\":(30*6)//7}\n",
    "    detector[\"T\"]=cfar.calcula_t_para_pfa(detector[\"ancho_ventana\"],detector[\"k\"])\n",
    "    seguimiento = tracking.GestorDeTrayectos()\n",
    "    for i in range(exploraciones.shape[0]):\n",
    "        a2 = compresor.amplitud_cuadrada_correlacion(exploraciones[i,:])\n",
    "        rangos,_ = cfar.detectarOsCfar(radar,a2,detector)\n",
    "        seguimiento.actualizaTrayectos(rangos,dt,varDet,varAcel,tol,tolPred)\n",
    "    return seguimiento.copiaTrayectos()\n",
    "\n",
    "\n",
    "trayectos=fn1(comp1,exploraciones,varDet=1,varAcel=1,tol=3)\n"
   ]
  },
  {
   "cell_type": "markdown",
   "metadata": {},
   "source": [
    "def figx(compresor_prueba,exploraciones):\n",
    "  radar ={\"frec_muestreo\":compresor_prueba.frec_muestreo, # en 1/s\n",
    "          \"ancho_pulso\":compresor_prueba.pulso.size, # adimensional\n",
    "          \"distancia_ciega\": compresor_prueba.rango_minimo_km, # km\n",
    "          \"rango_por_unidad_de_retardo\":1.5e5} # km/s\n",
    "  detector={\"ancho_ventana\":30,\n",
    "            \"k\":(30*6)//7}\n",
    "  for i in range(65,70):\n",
    "      correlacion = compresor_prueba.amplitud_cuadrada_correlacion(exploraciones[i])\n",
    "      detector[\"T\"]=cfar.calcula_t_para_pfa(detector[\"ancho_ventana\"],detector[\"k\"])\n",
    "      rangos,detalle= cfar.detectarOsCfar(radar,correlacion,detector)\n",
    "      plt.figure(figsize=(16,6),dpi=150)\n",
    "      plt.subplot(2,1,1)\n",
    "      plt.plot(correlacion,'.--')\n",
    "      detecciones = detalle[\"posiciones\"]\n",
    "      plt.plot(detecciones,correlacion[detecciones],'r+')\n",
    "      plt.plot(detalle[\"centros\"],detalle[\"umbrales\"],'.--')\n",
    "      plt.subplot(2,1,2)\n",
    "      plt.plot(rangos,np.ones_like(rangos),'ro')\n",
    "      #plt.xlim(0,100)\n",
    "      plt.show()\n",
    "figx(comp1,exploraciones)\n",
    "\n"
   ]
  },
  {
   "cell_type": "code",
   "execution_count": null,
   "metadata": {},
   "outputs": [],
   "source": [
    "plt.figure(1)\n",
    "for trayecto in trayectos:\n",
    "    datos_trayecto = np.asanyarray(trayecto)\n",
    "    t = datos_trayecto[:,0]\n",
    "    x = datos_trayecto[:,1]\n",
    "    var_x= datos_trayecto[:,2]\n",
    "    v= datos_trayecto[:,3]\n",
    "    var_v= datos_trayecto[:,4]\n",
    "    plt.plot(t,x)\n",
    "plt.show()\n"
   ]
  },
  {
   "cell_type": "code",
   "execution_count": null,
   "metadata": {},
   "outputs": [],
   "source": []
  }
 ],
 "metadata": {
  "kernelspec": {
   "display_name": "Python 3",
   "language": "python",
   "name": "python3"
  },
  "language_info": {
   "codemirror_mode": {
    "name": "ipython",
    "version": 3
   },
   "file_extension": ".py",
   "mimetype": "text/x-python",
   "name": "python",
   "nbconvert_exporter": "python",
   "pygments_lexer": "ipython3",
   "version": "3.11.5"
  }
 },
 "nbformat": 4,
 "nbformat_minor": 4
}
