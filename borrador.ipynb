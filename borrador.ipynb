{
 "cells": [
  {
   "cell_type": "code",
   "execution_count": 1,
   "metadata": {},
   "outputs": [],
   "source": [
    "import radar\n",
    "%matplotlib tk\n",
    "import matplotlib.pyplot as plt\n",
    "import numpy as np\n",
    "import importlib\n",
    "import cfar\n",
    "import tracking"
   ]
  },
  {
   "cell_type": "code",
   "execution_count": 2,
   "metadata": {},
   "outputs": [
    {
     "data": {
      "text/plain": [
       "<module 'cfar' from 'c:\\\\Users\\\\Isabel\\\\Documents\\\\simulador_OTH\\\\cfar.py'>"
      ]
     },
     "execution_count": 2,
     "metadata": {},
     "output_type": "execute_result"
    }
   ],
   "source": [
    "importlib.reload(radar)\n",
    "importlib.reload(cfar)"
   ]
  },
  {
   "cell_type": "code",
   "execution_count": 3,
   "metadata": {},
   "outputs": [],
   "source": [
    "#cod1=radar.Codigo_pseudoaleatorio(13,30,1)\n",
    "cod1=radar.Codigo_pseudoaleatorio(semilla = 202305041529+4,numero_bits=22,numero_muestras_bit=1)"
   ]
  },
  {
   "cell_type": "code",
   "execution_count": 44,
   "metadata": {},
   "outputs": [],
   "source": [
    "def cod_y_correlacion():\n",
    "    plt.figure(1,figsize=(10,6),dpi=100,layout='tight')\n",
    "    plt.clf()\n",
    "    plt.subplot(2,1,1)\n",
    "    plt.title(\"Pulso codificado (secuencia pseudoaleatoria)\")\n",
    "    ycod=cod1.muestras_codigo\n",
    "    xs=np.arange(-len(ycod)+1,len(ycod))\n",
    "    ycorr=np.correlate(ycod,ycod,\"full\")\n",
    "    plt.stem(xs,np.concatenate((np.zeros_like(ycod[:-1]),ycod)))\n",
    "    plt.subplot(2,1,2)\n",
    "    plt.title(\"Autocorrelación de Pulso codificado\")\n",
    "    plt.stem(xs,ycorr)\n",
    "    plt.plot(xs,ycorr,'b--')\n",
    "    plt.xlabel(\"lag\")\n",
    "    plt.show()\n",
    "cod_y_correlacion()"
   ]
  },
  {
   "cell_type": "code",
   "execution_count": 4,
   "metadata": {},
   "outputs": [],
   "source": [
    "rad1 = radar.Canal_radar(frec_muestreo=200000,frec_portadora=7e6,pulso=cod1.muestras_codigo,guarda=15000,rango_maximo=400e3, semilla_rng=202305041529+4)\n",
    "comp1 = radar.Compresor_pulso(rad1)\n",
    "simulador = radar.Simulador_escenario(rad1)\n",
    "escenario = [radar.mru(140000,-4), radar.mru(75000,12), radar.mru(100000,-6), radar.mru(55000,0)]\n",
    "exploraciones = simulador.exploracion(escenario,0,60,120, snr_rango_max=1/3)"
   ]
  },
  {
   "cell_type": "code",
   "execution_count": 19,
   "metadata": {},
   "outputs": [],
   "source": [
    "#plot de amplitud cuadrada de la correlación para algunos tiempos en función del rango\n",
    "def fig14():\n",
    "  plt.figure(figsize=(12,20),dpi=100)\n",
    "  plt.title(\"Amplitud cuadrada de la correlación a diferentes tiempos\")\n",
    "  #plt.xlabel(\"Rango (en km)\")\n",
    "  #plt.ylabel(\"Amplitud\")\n",
    "  for i in range(10):\n",
    "    plt.subplot(10,1,i+1)\n",
    "    plt.xlabel(\"Rango (en km)\")\n",
    "    plt.ylabel(\"Amplitud\")\n",
    "    plt.plot(comp1.amplitud_cuadrada_correlacion(exploraciones[i*10]))\n",
    "  plt.show()\n",
    "fig14()"
   ]
  },
  {
   "cell_type": "code",
   "execution_count": 18,
   "metadata": {},
   "outputs": [],
   "source": [
    "def fig15(compresor_prueba,exploraciones):\n",
    "  correlacion = compresor_prueba.amplitud_cuadrada_correlacion(exploraciones[30])\n",
    "  radar ={\"frec_muestreo\":compresor_prueba.frec_muestreo, # en 1/s\n",
    "          \"ancho_pulso\":compresor_prueba.pulso.size, # adimensional\n",
    "          \"distancia_ciega\": compresor_prueba.rango_minimo_km, # km\n",
    "          \"rango_por_unidad_de_retardo\":1.5e5} # km/s\n",
    "  detector={\"ancho_ventana\":30,\n",
    "            \"k\":(30*6)//7}\n",
    "  detector[\"T\"]=cfar.calcula_t_para_pfa(detector[\"ancho_ventana\"],detector[\"k\"])\n",
    "  rangos,detalle= cfar.detectarOsCfar(radar,correlacion,detector)\n",
    "  plt.figure(figsize=(16,6),dpi=150)\n",
    "  plt.subplot(2,1,1)\n",
    "  plt.plot(correlacion,'.--')\n",
    "  detecciones = detalle[\"posiciones\"]\n",
    "  plt.plot(detecciones,correlacion[detecciones],'r+')\n",
    "  plt.plot(detalle[\"centros\"],detalle[\"umbrales\"],'.--')\n",
    "  plt.subplot(2,1,2)\n",
    "  plt.plot(rangos,np.ones_like(rangos),'ro')\n",
    "  #plt.xlim(0,100)\n",
    "  plt.show()\n",
    "fig15(comp1,exploraciones)"
   ]
  },
  {
   "cell_type": "code",
   "execution_count": 7,
   "metadata": {},
   "outputs": [
    {
     "data": {
      "text/plain": [
       "[<matplotlib.lines.Line2D at 0x19cb55faf90>]"
      ]
     },
     "execution_count": 7,
     "metadata": {},
     "output_type": "execute_result"
    }
   ],
   "source": [
    "plt.subplot(2,1,1)\n",
    "plt.plot(np.real(exploraciones[100]))\n",
    "plt.subplot(2,1,2)\n",
    "plt.plot(np.imag(exploraciones[100]))"
   ]
  },
  {
   "cell_type": "code",
   "execution_count": 8,
   "metadata": {},
   "outputs": [],
   "source": [
    "sim = simulador.simula(escenario,0,.5,120,120)"
   ]
  },
  {
   "cell_type": "code",
   "execution_count": 16,
   "metadata": {},
   "outputs": [],
   "source": [
    "def fig16(exploracion,comp_pulso):\n",
    "    plt.figure(16,figsize=(10,10))\n",
    "    corr =  np.array([comp_pulso.amplitud_cuadrada_correlacion(exploracion[i,:]) for i in range(exploracion.shape[0])])\n",
    "    corr = np.fft.fftshift(corr,0)\n",
    "    R,F = np.meshgrid(np.arange(corr.shape[1]),np.fft.fftshift(np.fft.fftfreq(corr.shape[0],0.5)))\n",
    "    ax=plt.axes(projection='3d')\n",
    "    ax.plot_surface(R,F,corr)\n",
    "    plt.show()\n",
    "fig16(sim[100],comp1)"
   ]
  },
  {
   "cell_type": "code",
   "execution_count": null,
   "metadata": {},
   "outputs": [],
   "source": [
    "535-514"
   ]
  },
  {
   "cell_type": "code",
   "execution_count": 10,
   "metadata": {},
   "outputs": [
    {
     "data": {
      "text/plain": [
       "(120, 514)"
      ]
     },
     "execution_count": 10,
     "metadata": {},
     "output_type": "execute_result"
    }
   ],
   "source": [
    "exploraciones.shape"
   ]
  },
  {
   "cell_type": "code",
   "execution_count": null,
   "metadata": {},
   "outputs": [],
   "source": []
  },
  {
   "cell_type": "code",
   "execution_count": 11,
   "metadata": {},
   "outputs": [],
   "source": [
    "# kf = tracking.KF(initial_x=0.0, initial_v=1.0, accel_variance=0.1)\n",
    "# kf = KF(initial_x=0.0, initial_v=1.0, accel_variance=0.1)\n",
    "\n",
    "def fn1(compresor,exploraciones,dt=0.1,varDet=.1,varAcel=.1,tol=1,tolPred=10):\n",
    "    radar ={\"frec_muestreo\":compresor.frec_muestreo, # en 1/s\n",
    "        \"ancho_pulso\":compresor.pulso.size, # adimensional\n",
    "        \"distancia_ciega\": compresor.rango_minimo_km, # km\n",
    "        \"rango_por_unidad_de_retardo\":1.5e5} # km/s\n",
    "    detector={\"ancho_ventana\":30,\n",
    "                \"k\":(30*6)//7}\n",
    "    detector[\"T\"]=cfar.calcula_t_para_pfa(detector[\"ancho_ventana\"],detector[\"k\"])\n",
    "    seguimiento = tracking.GestorDeTrayectos()\n",
    "    for i in range(exploraciones.shape[0]):\n",
    "        a2 = compresor.amplitud_cuadrada_correlacion(exploraciones[i,:])\n",
    "        rangos,_ = cfar.detectarOsCfar(radar,a2,detector)\n",
    "        seguimiento.actualizaTrayectos(rangos,dt,varDet,varAcel,tol,tolPred)\n",
    "    return seguimiento.copiaTrayectos()\n",
    "\n",
    "\n",
    "trayectos=fn1(comp1,exploraciones,varDet=1,varAcel=1,tol=3)\n"
   ]
  },
  {
   "cell_type": "code",
   "execution_count": null,
   "metadata": {},
   "outputs": [],
   "source": []
  },
  {
   "cell_type": "code",
   "execution_count": null,
   "metadata": {},
   "outputs": [],
   "source": [
    "plt.figure(1)\n",
    "for trayecto in trayectos:\n",
    "    datos_trayecto = np.asanyarray(trayecto)\n",
    "    t = datos_trayecto[:,0]\n",
    "    x = datos_trayecto[:,1]\n",
    "    var_x= datos_trayecto[:,2]\n",
    "    v= datos_trayecto[:,3]\n",
    "    var_v= datos_trayecto[:,4]\n",
    "    plt.plot(t,x)\n",
    "plt.show()\n"
   ]
  },
  {
   "cell_type": "code",
   "execution_count": null,
   "metadata": {},
   "outputs": [],
   "source": []
  },
  {
   "cell_type": "code",
   "execution_count": 13,
   "metadata": {},
   "outputs": [
    {
     "data": {
      "text/plain": [
       "array([[ 1.00000000e-01,  9.97500000e+01,  1.00000000e+00,\n",
       "         0.00000000e+00,  1.00000000e+00],\n",
       "       [ 2.00000000e-01,  9.97500000e+01,  7.08867936e-01,\n",
       "         0.00000000e+00,  1.00248445e+00],\n",
       "       [ 3.00000000e-01,  9.94925887e+01,  5.85845583e-01,\n",
       "        -7.43793612e-02,  1.00000016e+00],\n",
       "       [ 4.00000000e-01,  9.93533317e+01,  5.21255621e-01,\n",
       "        -1.44929992e-01,  9.90436241e-01],\n",
       "       [ 5.00000000e-01,  9.92585319e+01,  4.86832482e-01,\n",
       "        -2.08016029e-01,  9.72384811e-01],\n",
       "       [ 6.00000000e-01,  9.90194265e+01,  4.70122995e-01,\n",
       "        -4.24406698e-01,  9.45473077e-01],\n",
       "       [ 7.00000000e-01,  9.86595156e+01,  4.63621252e-01,\n",
       "        -7.82662956e-01,  9.10481040e-01],\n",
       "       [ 8.00000000e-01,  9.83501917e+01,  4.62271631e-01,\n",
       "        -1.05978855e+00,  8.69156272e-01],\n",
       "       [ 1.00000000e+00,  9.77808544e+01,  5.07380216e-01,\n",
       "        -1.48180778e+00,  8.06833240e-01],\n",
       "       [ 1.10000000e+00,  9.74162850e+01,  4.95127634e-01,\n",
       "        -1.72806349e+00,  7.46905017e-01],\n",
       "       [ 1.20000000e+00,  9.69517248e+01,  4.84383256e-01,\n",
       "        -2.04715314e+00,  6.94141191e-01],\n",
       "       [ 1.30000000e+00,  9.65787216e+01,  4.74638995e-01,\n",
       "        -2.22383317e+00,  6.47784697e-01],\n",
       "       [ 1.40000000e+00,  9.61164884e+01,  4.65613681e-01,\n",
       "        -2.46556521e+00,  6.07181056e-01],\n",
       "       [ 1.60000000e+00,  9.53515633e+01,  4.91894424e-01,\n",
       "        -2.71612169e+00,  5.68369439e-01],\n",
       "       [ 1.70000000e+00,  9.49496361e+01,  4.74025355e-01,\n",
       "        -2.83115809e+00,  5.31315280e-01],\n",
       "       [ 1.80000000e+00,  9.44732533e+01,  4.59206334e-01,\n",
       "        -2.99539801e+00,  5.01599878e-01],\n",
       "       [ 1.90000000e+00,  9.40891739e+01,  4.46677275e-01,\n",
       "        -3.06488106e+00,  4.77502179e-01],\n",
       "       [ 2.00000000e+00,  9.36339473e+01,  4.35931253e-01,\n",
       "        -3.18361100e+00,  4.57818481e-01],\n",
       "       [ 2.10000000e+00,  9.32581490e+01,  4.26616349e-01,\n",
       "        -3.22831087e+00,  4.41669453e-01],\n",
       "       [ 2.20000000e+00,  9.28153014e+01,  4.18479789e-01,\n",
       "        -3.31969070e+00,  4.28389863e-01],\n",
       "       [ 2.30000000e+00,  9.24438534e+01,  4.11334454e-01,\n",
       "        -3.34919347e+00,  4.17462192e-01],\n",
       "       [ 2.50000000e+00,  9.18620719e+01,  4.30115913e-01,\n",
       "        -3.28584639e+00,  4.15382049e-01],\n",
       "       [ 2.60000000e+00,  9.13957131e+01,  4.19341498e-01,\n",
       "        -3.38324604e+00,  4.04710306e-01],\n",
       "       [ 2.70000000e+00,  9.10056515e+01,  4.10257899e-01,\n",
       "        -3.41934265e+00,  3.96497114e-01],\n",
       "       [ 2.80000000e+00,  9.05561590e+01,  4.02559578e-01,\n",
       "        -3.49367381e+00,  3.90182134e-01],\n",
       "       [ 2.90000000e+00,  9.01743606e+01,  3.96017343e-01,\n",
       "        -3.51594252e+00,  3.85342363e-01],\n",
       "       [ 3.00000000e+00,  8.97354458e+01,  3.90453583e-01,\n",
       "        -3.57566963e+00,  3.81652716e-01],\n",
       "       [ 3.10000000e+00,  8.93588524e+01,  3.85726514e-01,\n",
       "        -3.58866053e+00,  3.78860013e-01],\n",
       "       [ 3.20000000e+00,  8.90364159e+01,  3.81719904e-01,\n",
       "        -3.56379056e+00,  3.76765182e-01],\n",
       "       [ 3.30000000e+00,  8.86542666e+01,  3.78336237e-01,\n",
       "        -3.58140313e+00,  3.75210694e-01],\n",
       "       [ 3.50000000e+00,  8.79082173e+01,  3.97939562e-01,\n",
       "        -3.60165244e+00,  3.83401845e-01],\n",
       "       [ 3.60000000e+00,  8.75790597e+01,  3.91845059e-01,\n",
       "        -3.58064100e+00,  3.79747588e-01],\n",
       "       [ 3.70000000e+00,  8.71879504e+01,  3.86689200e-01,\n",
       "        -3.60300046e+00,  3.77056826e-01],\n",
       "       [ 3.80000000e+00,  8.68528449e+01,  3.82338198e-01,\n",
       "        -3.58594618e+00,  3.75105338e-01],\n",
       "       [ 3.90000000e+00,  8.64592250e+01,  3.78680813e-01,\n",
       "        -3.60969784e+00,  3.73717502e-01],\n",
       "       [ 4.00000000e+00,  8.61196652e+01,  3.75622526e-01,\n",
       "        -3.59513819e+00,  3.72755190e-01],\n",
       "       [ 4.10000000e+00,  8.57239410e+01,  3.73081614e-01,\n",
       "        -3.61984848e+00,  3.72109653e-01],\n",
       "       [ 4.20000000e+00,  8.53809552e+01,  3.70986509e-01,\n",
       "        -3.60683322e+00,  3.71695438e-01],\n",
       "       [ 4.30000000e+00,  8.49834167e+01,  3.69274000e-01,\n",
       "        -3.63218210e+00,  3.71445742e-01],\n",
       "       [ 4.40000000e+00,  8.46377661e+01,  3.67888004e-01,\n",
       "        -3.62005102e+00,  3.71308784e-01],\n",
       "       [ 4.50000000e+00,  8.42386638e+01,  3.66778708e-01,\n",
       "        -3.64576603e+00,  3.71244929e-01],\n",
       "       [ 4.60000000e+00,  8.38909449e+01,  3.65901950e-01,\n",
       "        -3.63403897e+00,  3.71224362e-01],\n",
       "       [ 4.70000000e+00,  8.34905213e+01,  3.65218744e-01,\n",
       "        -3.65987507e+00,  3.71225188e-01],\n",
       "       [ 4.80000000e+00,  8.31412211e+01,  3.64694885e-01,\n",
       "        -3.64819547e+00,  3.71231857e-01],\n",
       "       [ 4.90000000e+00,  8.27397189e+01,  3.64300601e-01,\n",
       "        -3.67393432e+00,  3.71233856e-01],\n",
       "       [ 5.00000000e+00,  8.23892428e+01,  3.64010217e-01,\n",
       "        -3.66203870e+00,  3.71224609e-01],\n",
       "       [ 5.10000000e+00,  8.19869017e+01,  3.63801818e-01,\n",
       "        -3.68749432e+00,  3.71200564e-01],\n",
       "       [ 5.20000000e+00,  8.16355887e+01,  3.63656923e-01,\n",
       "        -3.67519399e+00,  3.71160431e-01],\n",
       "       [ 5.30000000e+00,  8.12326370e+01,  3.63560143e-01,\n",
       "        -3.70021828e+00,  3.71104553e-01],\n",
       "       [ 5.40000000e+00,  8.08807680e+01,  3.63498844e-01,\n",
       "        -3.68738630e+00,  3.71034392e-01],\n",
       "       [ 5.50000000e+00,  8.04774139e+01,  3.63462825e-01,\n",
       "        -3.71187158e+00,  3.70952119e-01],\n",
       "       [ 5.60000000e+00,  8.01252180e+01,  3.63443992e-01,\n",
       "        -3.69843189e+00,  3.70860291e-01],\n",
       "       [ 5.70000000e+00,  7.97216434e+01,  3.63436059e-01,\n",
       "        -3.72231000e+00,  3.70761599e-01],\n",
       "       [ 5.80000000e+00,  7.93693027e+01,  3.63434270e-01,\n",
       "        -3.70822755e+00,  3.70658688e-01],\n",
       "       [ 5.90000000e+00,  7.89656595e+01,  3.63435136e-01,\n",
       "        -3.73146604e+00,  3.70554026e-01],\n",
       "       [ 6.00000000e+00,  7.86133147e+01,  3.63436204e-01,\n",
       "        -3.71673770e+00,  3.70449818e-01],\n",
       "       [ 6.10000000e+00,  7.82097236e+01,  3.63435856e-01,\n",
       "        -3.73933420e+00,  3.70347957e-01],\n",
       "       [ 6.20000000e+00,  7.78574796e+01,  3.63433121e-01,\n",
       "        -3.72398070e+00,  3.70250003e-01],\n",
       "       [ 6.30000000e+00,  7.74540321e+01,  3.63427529e-01,\n",
       "        -3.74595655e+00,  3.70157179e-01],\n",
       "       [ 6.40000000e+00,  7.71019633e+01,  3.63418977e-01,\n",
       "        -3.73001545e+00,  3.70070390e-01],\n",
       "       [ 6.50000000e+00,  7.67977728e+01,  3.63407623e-01,\n",
       "        -3.68133022e+00,  3.69990247e-01],\n",
       "       [ 6.60000000e+00,  7.64389312e+01,  3.63393797e-01,\n",
       "        -3.67475749e+00,  3.69917102e-01],\n",
       "       [ 6.70000000e+00,  7.61280419e+01,  3.63377935e-01,\n",
       "        -3.63473510e+00,  3.69851081e-01],\n",
       "       [ 6.80000000e+00,  7.57626450e+01,  3.63360521e-01,\n",
       "        -3.63609533e+00,  3.69792120e-01],\n",
       "       [ 6.90000000e+00,  7.54453689e+01,  3.63342050e-01,\n",
       "        -3.60333456e+00,  3.69740008e-01],\n",
       "       [ 7.00000000e+00,  7.50738104e+01,  3.63322994e-01,\n",
       "        -3.61127034e+00,  3.69694414e-01],\n",
       "       [ 7.10000000e+00,  7.47506062e+01,  3.63303788e-01,\n",
       "        -3.58446284e+00,  3.69654924e-01],\n",
       "       [ 7.20000000e+00,  7.43733983e+01,  3.63284813e-01,\n",
       "        -3.59772414e+00,  3.69621063e-01],\n",
       "       [ 7.30000000e+00,  7.40448184e+01,  3.63266391e-01,\n",
       "        -3.57567813e+00,  3.69592324e-01],\n",
       "       [ 7.40000000e+00,  7.36625429e+01,  3.63248781e-01,\n",
       "        -3.59313967e+00,  3.69568187e-01],\n",
       "       [ 7.50000000e+00,  7.33291904e+01,  3.63232184e-01,\n",
       "        -3.57479295e+00,  3.69548132e-01],\n",
       "       [ 7.60000000e+00,  7.29424616e+01,  3.63216742e-01,\n",
       "        -3.59546246e+00,  3.69531657e-01],\n",
       "       [ 7.70000000e+00,  7.26049565e+01,  3.63202548e-01,\n",
       "        -3.57988732e+00,  3.69518283e-01],\n",
       "       [ 7.80000000e+00,  7.22143911e+01,  3.63189649e-01,\n",
       "        -3.60290679e+00,  3.69507564e-01],\n",
       "       [ 7.90000000e+00,  7.18733443e+01,  3.63178054e-01,\n",
       "        -3.58930878e+00,  3.69499092e-01],\n",
       "       [ 8.00000000e+00,  7.14795397e+01,  3.63167740e-01,\n",
       "        -3.61395081e+00,  3.69492498e-01],\n",
       "       [ 8.10000000e+00,  7.11355343e+01,  3.63158658e-01,\n",
       "        -3.60166319e+00,  3.69487452e-01],\n",
       "       [ 8.20000000e+00,  7.07390529e+01,  3.63150742e-01,\n",
       "        -3.62732365e+00,  3.69483666e-01],\n",
       "       [ 8.30000000e+00,  7.03926305e+01,  3.63143912e-01,\n",
       "        -3.61579884e+00,  3.69480888e-01],\n",
       "       [ 8.40000000e+00,  6.99939887e+01,  3.63138078e-01,\n",
       "        -3.64198724e+00,  3.69478905e-01],\n",
       "       [ 8.50000000e+00,  6.96456416e+01,  3.63133146e-01,\n",
       "        -3.63078626e+00,  3.69477534e-01],\n",
       "       [ 8.60000000e+00,  6.92453034e+01,  3.63129019e-01,\n",
       "        -3.65711463e+00,  3.69476626e-01],\n",
       "       [ 8.70000000e+00,  6.88954690e+01,  3.63125606e-01,\n",
       "        -3.64589549e+00,  3.69476058e-01],\n",
       "       [ 8.80000000e+00,  6.84938432e+01,  3.63122813e-01,\n",
       "        -3.67206651e+00,  3.69475730e-01],\n",
       "       [ 8.90000000e+00,  6.81429028e+01,  3.63120558e-01,\n",
       "        -3.66057214e+00,  3.69475563e-01],\n",
       "       [ 9.00000000e+00,  6.78392335e+01,  3.63118759e-01,\n",
       "        -3.61648621e+00,  3.69475497e-01],\n",
       "       [ 9.10000000e+00,  6.74805404e+01,  3.63117345e-01,\n",
       "        -3.61439770e+00,  3.69475486e-01],\n",
       "       [ 9.20000000e+00,  6.71693235e+01,  3.63116252e-01,\n",
       "        -3.57890765e+00,  3.69475496e-01],\n",
       "       [ 9.30000000e+00,  6.68033327e+01,  3.63115421e-01,\n",
       "        -3.58463160e+00,  3.69475506e-01],\n",
       "       [ 9.40000000e+00,  6.64851017e+01,  3.63114803e-01,\n",
       "        -3.55620123e+00,  3.69475498e-01],\n",
       "       [ 9.50000000e+00,  6.61124092e+01,  3.63114354e-01,\n",
       "        -3.56826562e+00,  3.69475465e-01],\n",
       "       [ 9.60000000e+00,  6.57878095e+01,  3.63114037e-01,\n",
       "        -3.54549211e+00,  3.69475403e-01],\n",
       "       [ 9.70000000e+00,  6.54090971e+01,  3.63113821e-01,\n",
       "        -3.56256734e+00,  3.69475311e-01],\n",
       "       [ 9.80000000e+00,  6.50788362e+01,  3.63113681e-01,\n",
       "        -3.54419701e+00,  3.69475191e-01],\n",
       "       [ 9.90000000e+00,  6.46948268e+01,  3.63113596e-01,\n",
       "        -3.56510701e+00,  3.69475046e-01],\n",
       "       [ 1.00000000e+01,  6.43596344e+01,  3.63113549e-01,\n",
       "        -3.55004211e+00,  3.69474881e-01],\n",
       "       [ 1.02000000e+01,  6.36645631e+01,  3.85764727e-01,\n",
       "        -3.53957801e+00,  3.79134934e-01],\n",
       "       [ 1.03000000e+01,  6.32652191e+01,  3.82258659e-01,\n",
       "        -3.57117232e+00,  3.76332361e-01],\n",
       "       [ 1.04000000e+01,  6.29213138e+01,  3.79166432e-01,\n",
       "        -3.56201473e+00,  3.74204145e-01],\n",
       "       [ 1.05000000e+01,  6.25204543e+01,  3.76458538e-01,\n",
       "        -3.59288769e+00,  3.72618761e-01],\n",
       "       [ 1.06000000e+01,  6.21735983e+01,  3.74105117e-01,\n",
       "        -3.58430328e+00,  3.71466115e-01],\n",
       "       [ 1.07000000e+01,  6.17715359e+01,  3.72076254e-01,\n",
       "        -3.61442543e+00,  3.70654440e-01],\n",
       "       [ 1.08000000e+01,  6.14224244e+01,  3.70342283e-01,\n",
       "        -3.60590658e+00,  3.70107641e-01],\n",
       "       [ 1.14000000e+01,  5.83752596e+01,  4.84845874e-01,\n",
       "        -4.16640940e+00,  4.09769862e-01],\n",
       "       [ 1.16000000e+01,  5.70687156e+01,  4.81421408e-01,\n",
       "        -4.45614578e+00,  4.02125267e-01]])"
      ]
     },
     "execution_count": 13,
     "metadata": {},
     "output_type": "execute_result"
    }
   ],
   "source": [
    "np.asanyarray(trayectos[3])"
   ]
  },
  {
   "cell_type": "code",
   "execution_count": null,
   "metadata": {},
   "outputs": [],
   "source": []
  }
 ],
 "metadata": {
  "kernelspec": {
   "display_name": "Python 3",
   "language": "python",
   "name": "python3"
  },
  "language_info": {
   "codemirror_mode": {
    "name": "ipython",
    "version": 3
   },
   "file_extension": ".py",
   "mimetype": "text/x-python",
   "name": "python",
   "nbconvert_exporter": "python",
   "pygments_lexer": "ipython3",
   "version": "3.11.3"
  }
 },
 "nbformat": 4,
 "nbformat_minor": 2
}
